{
  "nbformat": 4,
  "nbformat_minor": 0,
  "metadata": {
    "colab": {
      "provenance": [],
      "gpuType": "T4"
    },
    "kernelspec": {
      "name": "python3",
      "display_name": "Python 3"
    },
    "language_info": {
      "name": "python"
    },
    "accelerator": "GPU"
  },
  "cells": [
    {
      "cell_type": "markdown",
      "source": [
        "**Ensemble Model-1 (Resnet50 + MobileNetV2 + Xception)**\n",
        "\n",
        "Loading Dataset"
      ],
      "metadata": {
        "id": "JlT_uzPp1KKd"
      }
    },
    {
      "cell_type": "code",
      "execution_count": null,
      "metadata": {
        "id": "fIiIXaqNFAtu"
      },
      "outputs": [],
      "source": [
        "from tensorflow.keras.models import load_model\n",
        "import numpy as np\n",
        "from sklearn.linear_model import LogisticRegression\n",
        "from sklearn.metrics import accuracy_score, confusion_matrix, classification_report\n",
        "import joblib"
      ]
    },
    {
      "cell_type": "code",
      "source": [
        "import os\n",
        "import numpy as np\n",
        "from sklearn.model_selection import train_test_split\n",
        "\n",
        "# Directory where arrays are saved\n",
        "directory = '/content/drive/MyDrive/arrays27'\n",
        "\n",
        "# File paths\n",
        "x_train_path = os.path.join(directory, 'x_train.npy')\n",
        "x_test_path = os.path.join(directory, 'x_test.npy')\n",
        "x_val_path = os.path.join(directory, 'x_val.npy')\n",
        "y_train_path = os.path.join(directory, 'y_train.npy')\n",
        "y_test_path = os.path.join(directory, 'y_test.npy')\n",
        "y_val_path = os.path.join(directory, 'y_val.npy')\n",
        "\n",
        "# Load arrays\n",
        "x_train = np.load(x_train_path)\n",
        "x_test = np.load(x_test_path)\n",
        "x_val = np.load(x_val_path)\n",
        "y_train = np.load(y_train_path)\n",
        "y_test = np.load(y_test_path)\n",
        "y_val = np.load(y_val_path)\n",
        "\n",
        "print(f\"Loaded data from {directory}\")\n",
        "print(x_train.shape, x_test.shape, x_val.shape, y_train.shape, y_test.shape, y_val.shape)"
      ],
      "metadata": {
        "colab": {
          "base_uri": "https://localhost:8080/"
        },
        "id": "hHM3oj8CFqxj",
        "outputId": "a9b369ba-89f5-4931-8906-b7eb231b7a29"
      },
      "execution_count": null,
      "outputs": [
        {
          "output_type": "stream",
          "name": "stdout",
          "text": [
            "Loaded data from /content/drive/MyDrive/arrays27\n",
            "(3751, 299, 299, 3) (1042, 299, 299, 3) (417, 299, 299, 3) (3751,) (1042,) (417,)\n"
          ]
        }
      ]
    },
    {
      "cell_type": "markdown",
      "source": [
        "**Loading base Models**"
      ],
      "metadata": {
        "id": "p53o2yR41Xqd"
      }
    },
    {
      "cell_type": "code",
      "source": [
        "# Load the pre-trained models\n",
        "mobilenet = load_model('/content/drive/MyDrive/Models/MobileNetV2_28.hdf5')\n",
        "resnet50 = load_model('/content/drive/MyDrive/Models/Resnet50.hdf5')\n",
        "inceptionv3 = load_model('/content/drive/MyDrive/Models/Xception.hdf5')"
      ],
      "metadata": {
        "id": "vitHlow7FUPo"
      },
      "execution_count": null,
      "outputs": []
    },
    {
      "cell_type": "code",
      "source": [
        "def get_model_predictions(model, data):\n",
        "    return model.predict(data)\n",
        "\n",
        "# Generate predictions for the train set\n",
        "mobilenet_train_preds = get_model_predictions(mobilenet, x_train)\n",
        "resnet50_train_preds = get_model_predictions(resnet50, x_train)\n",
        "inceptionv3_train_preds = get_model_predictions(inceptionv3, x_train)\n",
        "\n",
        "# Generate predictions for the validation set\n",
        "mobilenet_val_preds = get_model_predictions(mobilenet, x_val)\n",
        "resnet50_val_preds = get_model_predictions(resnet50, x_val)\n",
        "inceptionv3_val_preds = get_model_predictions(inceptionv3, x_val)\n"
      ],
      "metadata": {
        "colab": {
          "base_uri": "https://localhost:8080/"
        },
        "id": "PWIZsyLLFp4l",
        "outputId": "daee1246-2a70-440d-f444-c8af0adcf6fc"
      },
      "execution_count": null,
      "outputs": [
        {
          "output_type": "stream",
          "name": "stdout",
          "text": [
            "118/118 [==============================] - 13s 68ms/step\n",
            "118/118 [==============================] - 25s 168ms/step\n",
            "118/118 [==============================] - 36s 248ms/step\n",
            "14/14 [==============================] - 2s 124ms/step\n",
            "14/14 [==============================] - 3s 224ms/step\n",
            "14/14 [==============================] - 4s 267ms/step\n"
          ]
        }
      ]
    },
    {
      "cell_type": "code",
      "source": [
        "# Combine the train and validation predictions\n",
        "combined_train_preds = np.concatenate(\n",
        "    [mobilenet_train_preds, resnet50_train_preds, inceptionv3_train_preds],\n",
        "    axis=1\n",
        ")\n",
        "\n",
        "combined_val_preds = np.concatenate(\n",
        "    [mobilenet_val_preds, resnet50_val_preds, inceptionv3_val_preds],\n",
        "    axis=1\n",
        ")"
      ],
      "metadata": {
        "id": "7kHfravaF7nX"
      },
      "execution_count": null,
      "outputs": []
    },
    {
      "cell_type": "code",
      "source": [
        "# # Train labels (assuming y_train and y_val are already in the correct shape)\n",
        "# train_labels = np.argmax(y_train, axis=1)\n",
        "# val_labels = np.argmax(y_val, axis=1)\n",
        "\n"
      ],
      "metadata": {
        "id": "k_0geXbgGM_m"
      },
      "execution_count": null,
      "outputs": []
    },
    {
      "cell_type": "markdown",
      "source": [
        "Training the meta classifier (stacking ensemble model)"
      ],
      "metadata": {
        "id": "_3lEcnka1bTz"
      }
    },
    {
      "cell_type": "code",
      "source": [
        "# Initialize and train the meta-classifier\n",
        "meta_classifier = LogisticRegression(max_iter=1000)\n",
        "meta_classifier.fit(combined_train_preds, y_train)\n",
        "\n",
        "# Generate predictions with the meta-classifier on the validation set\n",
        "meta_val_predictions = meta_classifier.predict(combined_val_preds)\n"
      ],
      "metadata": {
        "id": "GpoV-ZD6G-qU"
      },
      "execution_count": null,
      "outputs": []
    },
    {
      "cell_type": "code",
      "source": [
        "from sklearn.metrics import log_loss, accuracy_score\n",
        "\n",
        "# Evaluate the meta-classifier on the validation set\n",
        "val_preds = meta_classifier.predict_proba(combined_val_preds)\n",
        "val_loss = log_loss(y_val, val_preds)\n",
        "val_accuracy = accuracy_score(y_val, meta_val_predictions)\n",
        "\n",
        "print(f\"Validation Loss: {val_loss:.4f}\")\n",
        "print(f\"Validation Accuracy: {val_accuracy:.4f}\")\n"
      ],
      "metadata": {
        "colab": {
          "base_uri": "https://localhost:8080/"
        },
        "id": "qBTbZaZUJBSG",
        "outputId": "f5d8af0e-b948-4116-8fa1-c00430ed8ad6"
      },
      "execution_count": null,
      "outputs": [
        {
          "output_type": "stream",
          "name": "stdout",
          "text": [
            "Validation Loss: 0.0815\n",
            "Validation Accuracy: 0.9760\n"
          ]
        }
      ]
    },
    {
      "cell_type": "code",
      "source": [
        "# Evaluate the meta-classifier on the validation set\n",
        "print(classification_report(y_val, meta_val_predictions, target_names=['Normal', 'Covid_positive', 'Lung_Opacity', 'Viral_Pneumonia']))\n",
        "\n",
        "# Generate the confusion matrix\n",
        "cm = confusion_matrix(y_val, meta_val_predictions)\n",
        "print(\"Confusion Matrix:\\n\", cm)\n",
        "\n",
        "# Save the meta-classifier\n",
        "meta_model_path = '/content/drive/MyDrive/Models/meta_classifier.pkl'\n",
        "joblib.dump(meta_classifier, meta_model_path)\n",
        "print(f\"Meta-model saved to {meta_model_path}\")\n"
      ],
      "metadata": {
        "colab": {
          "base_uri": "https://localhost:8080/"
        },
        "id": "WKHjIyLXGVmB",
        "outputId": "eacc8b55-6f3b-45b2-984f-e1108b6f9943"
      },
      "execution_count": null,
      "outputs": [
        {
          "output_type": "stream",
          "name": "stdout",
          "text": [
            "                 precision    recall  f1-score   support\n",
            "\n",
            "         Normal       0.99      0.95      0.97       103\n",
            " Covid_positive       0.97      0.98      0.98       105\n",
            "   Lung_Opacity       0.96      0.98      0.97       115\n",
            "Viral_Pneumonia       0.99      0.99      0.99        94\n",
            "\n",
            "       accuracy                           0.98       417\n",
            "      macro avg       0.98      0.98      0.98       417\n",
            "   weighted avg       0.98      0.98      0.98       417\n",
            "\n",
            "Confusion Matrix:\n",
            " [[ 98   1   4   0]\n",
            " [  0 103   1   1]\n",
            " [  0   2 113   0]\n",
            " [  1   0   0  93]]\n",
            "Meta-model saved to /content/drive/MyDrive/Models/meta_classifier.pkl\n"
          ]
        }
      ]
    },
    {
      "cell_type": "code",
      "source": [
        "import matplotlib.pyplot as plt\n",
        "from sklearn.metrics import ConfusionMatrixDisplay  # Import ConfusionMatrixDisplay\n",
        "\n",
        "# Display confusion matrix\n",
        "disp = ConfusionMatrixDisplay(confusion_matrix=cm, display_labels=['Normal', 'Covid_positive', 'Lung_Opacity', 'Viral_Pneumonia'])\n",
        "disp.plot(cmap=plt.cm.Blues)\n",
        "plt.show()"
      ],
      "metadata": {
        "colab": {
          "base_uri": "https://localhost:8080/",
          "height": 450
        },
        "id": "k0Elw2lOI1fo",
        "outputId": "e71c0fca-17b9-446a-e278-2ef5536f1404"
      },
      "execution_count": null,
      "outputs": [
        {
          "output_type": "display_data",
          "data": {
            "text/plain": [
              "<Figure size 640x480 with 2 Axes>"
            ],
            "image/png": "[encoded data removed]"
          },
          "metadata": {}
        }
      ]
    },
    {
      "cell_type": "code",
      "source": [
        "# Now for testing on the test set\n",
        "mobilenet_test_preds = get_model_predictions(mobilenet, x_test)\n",
        "resnet50_test_preds = get_model_predictions(resnet50, x_test)\n",
        "inceptionv3_test_preds = get_model_predictions(inceptionv3, x_test)\n",
        "\n",
        "combined_test_preds = np.concatenate(\n",
        "    [mobilenet_test_preds, resnet50_test_preds, inceptionv3_test_preds],\n",
        "    axis=1\n",
        ")\n",
        "\n",
        "# Test labels\n",
        "# test_labels = np.argmax(y_test, axis=1)\n",
        "\n",
        "# Generate predictions with the meta-classifier on the test set\n",
        "meta_test_predictions = meta_classifier.predict(combined_test_preds)\n",
        "\n",
        "# Evaluate the meta-classifier on the test set\n",
        "print(classification_report(y_test, meta_test_predictions, target_names=['Normal', 'Covid_positive', 'Lung_Opacity', 'Viral_Pneumonia']))\n",
        "\n",
        "# Generate the confusion matrix for the test set\n",
        "cm_test = confusion_matrix(y_test, meta_test_predictions)\n",
        "print(\"Confusion Matrix:\\n\", cm_test)"
      ],
      "metadata": {
        "colab": {
          "base_uri": "https://localhost:8080/"
        },
        "id": "9asKZNUBGicP",
        "outputId": "902152da-8266-4129-9d10-46e75a2d6e5c"
      },
      "execution_count": null,
      "outputs": [
        {
          "output_type": "stream",
          "name": "stdout",
          "text": [
            "33/33 [==============================] - 2s 63ms/step\n",
            "33/33 [==============================] - 5s 159ms/step\n",
            "33/33 [==============================] - 7s 214ms/step\n",
            "                 precision    recall  f1-score   support\n",
            "\n",
            "         Normal       0.96      0.95      0.96       274\n",
            " Covid_positive       0.98      0.96      0.97       249\n",
            "   Lung_Opacity       0.94      0.98      0.96       256\n",
            "Viral_Pneumonia       0.98      0.97      0.98       263\n",
            "\n",
            "       accuracy                           0.97      1042\n",
            "      macro avg       0.97      0.97      0.97      1042\n",
            "   weighted avg       0.97      0.97      0.97      1042\n",
            "\n",
            "Confusion Matrix:\n",
            " [[261   1   8   4]\n",
            " [  3 238   7   1]\n",
            " [  3   1 252   0]\n",
            " [  5   2   0 256]]\n"
          ]
        }
      ]
    },
    {
      "cell_type": "code",
      "source": [
        "# Generate predictions with the meta-classifier on the test set\n",
        "test_preds = meta_classifier.predict_proba(combined_test_preds)\n",
        "test_loss = log_loss(y_test, test_preds)\n",
        "test_accuracy = accuracy_score(y_test, meta_test_predictions)\n",
        "\n",
        "print(f\"Test Loss: {test_loss:.4f}\")\n",
        "print(f\"Test Accuracy: {test_accuracy:.4f}\")\n"
      ],
      "metadata": {
        "colab": {
          "base_uri": "https://localhost:8080/"
        },
        "id": "AaYq09ppJ4pP",
        "outputId": "11a6bc2a-1f23-4f10-f4f0-3dc6ca253304"
      },
      "execution_count": null,
      "outputs": [
        {
          "output_type": "stream",
          "name": "stdout",
          "text": [
            "Test Loss: 0.0994\n",
            "Test Accuracy: 0.9664\n"
          ]
        }
      ]
    },
    {
      "cell_type": "code",
      "source": [
        "import matplotlib.pyplot as plt\n",
        "from sklearn.metrics import ConfusionMatrixDisplay  # Import ConfusionMatrixDisplay\n",
        "\n",
        "# Display confusion matrix\n",
        "disp = ConfusionMatrixDisplay(confusion_matrix=cm_test, display_labels=['Normal', 'Covid_positive', 'Lung_Opacity', 'Viral_Pneumonia'])\n",
        "disp.plot(cmap=plt.cm.Blues)\n",
        "plt.show()"
      ],
      "metadata": {
        "colab": {
          "base_uri": "https://localhost:8080/",
          "height": 450
        },
        "id": "kpRjPVGXIhbs",
        "outputId": "9e37ca49-dfbd-4fd7-c7ec-0d176052cedb"
      },
      "execution_count": null,
      "outputs": [
        {
          "output_type": "display_data",
          "data": {
            "text/plain": [
              "<Figure size 640x480 with 2 Axes>"
            ],
            "image/png": "[encoded data removed]"
          },
          "metadata": {}
        }
      ]
    },
    {
      "cell_type": "markdown",
      "source": [
        "HyperParameter Tuning for meta model using GridSearch Optimization"
      ],
      "metadata": {
        "id": "dl8EV5Br1h_d"
      }
    },
    {
      "cell_type": "code",
      "source": [
        "from sklearn.model_selection import GridSearchCV\n",
        "from sklearn.linear_model import LogisticRegression\n",
        "\n",
        "# Define the parameter grid\n",
        "param_grid = {\n",
        "    'C': [0.01, 0.1, 1, 10, 100],\n",
        "    'max_iter': [200, 500, 1000]\n",
        "}\n",
        "\n",
        "# Initialize the logistic regression model\n",
        "meta_classifier = LogisticRegression()\n",
        "\n",
        "# Initialize GridSearchCV\n",
        "grid_search = GridSearchCV(meta_classifier, param_grid, cv=5, scoring='accuracy')\n",
        "\n",
        "# Fit GridSearchCV on the combined training predictions\n",
        "grid_search.fit(combined_train_preds, y_train)\n",
        "\n",
        "# Best hyperparameters\n",
        "print(f\"Best Hyperparameters: {grid_search.best_params_}\")\n",
        "\n",
        "# Use the best model for predictions\n",
        "best_meta_classifier = grid_search.best_estimator_\n",
        "\n",
        "# Evaluate on the validation set\n",
        "meta_val_predictions = best_meta_classifier.predict(combined_val_preds)\n",
        "print(classification_report(y_val, meta_val_predictions, target_names=['Normal', 'Covid_positive', 'Lung_Opacity', 'Viral_Pneumonia']))\n",
        "\n",
        "val_accuracy = accuracy_score(y_val, meta_val_predictions)\n",
        "val_loss = log_loss(y_val, best_meta_classifier.predict_proba(combined_val_preds))\n",
        "print(f\"Validation Accuracy: {val_accuracy}\")\n",
        "print(f\"Validation Log Loss: {val_loss}\")\n",
        "\n",
        "# Save the best meta-classifier\n",
        "meta_model_path = '/content/drive/MyDrive/Models/hyperparameter_meta_classifier.pkl'\n",
        "joblib.dump(best_meta_classifier, meta_model_path)\n",
        "print(f\"Meta-model saved to {meta_model_path}\")\n",
        "\n",
        "# Evaluate on the test set\n",
        "meta_test_predictions = best_meta_classifier.predict(combined_test_preds)\n",
        "print(classification_report(y_test, meta_test_predictions, target_names=['Normal', 'Covid_positive', 'Lung_Opacity', 'Viral_Pneumonia']))\n",
        "\n",
        "test_accuracy = accuracy_score(y_test, meta_test_predictions)\n",
        "test_loss = log_loss(y_test, best_meta_classifier.predict_proba(combined_test_preds))\n",
        "print(f\"Test Accuracy: {test_accuracy}\")\n",
        "print(f\"Test Log Loss: {test_loss}\")\n",
        "\n",
        "# Generate the confusion matrix for the test set\n",
        "cm_test = confusion_matrix(y_test, meta_test_predictions)\n",
        "print(\"Confusion Matrix:\\n\", cm_test)\n"
      ],
      "metadata": {
        "colab": {
          "base_uri": "https://localhost:8080/"
        },
        "id": "fVXjFg_uQw3h",
        "outputId": "a47712d7-3dbe-46b2-d5e8-70fd2307013e"
      },
      "execution_count": null,
      "outputs": [
        {
          "output_type": "stream",
          "name": "stdout",
          "text": [
            "Best Hyperparameters: {'C': 0.01, 'max_iter': 200}\n",
            "                 precision    recall  f1-score   support\n",
            "\n",
            "         Normal       0.99      0.95      0.97       103\n",
            " Covid_positive       0.97      0.98      0.98       105\n",
            "   Lung_Opacity       0.96      0.98      0.97       115\n",
            "Viral_Pneumonia       0.99      0.99      0.99        94\n",
            "\n",
            "       accuracy                           0.98       417\n",
            "      macro avg       0.98      0.98      0.98       417\n",
            "   weighted avg       0.98      0.98      0.98       417\n",
            "\n",
            "Validation Accuracy: 0.9760191846522782\n",
            "Validation Log Loss: 0.16347154186864118\n",
            "Meta-model saved to /content/drive/MyDrive/Models/hyperparameter_meta_classifier.pkl\n",
            "                 precision    recall  f1-score   support\n",
            "\n",
            "         Normal       0.96      0.96      0.96       274\n",
            " Covid_positive       0.98      0.96      0.97       249\n",
            "   Lung_Opacity       0.95      0.98      0.97       256\n",
            "Viral_Pneumonia       0.98      0.97      0.98       263\n",
            "\n",
            "       accuracy                           0.97      1042\n",
            "      macro avg       0.97      0.97      0.97      1042\n",
            "   weighted avg       0.97      0.97      0.97      1042\n",
            "\n",
            "Test Accuracy: 0.9683301343570058\n",
            "Test Log Loss: 0.1837938723780293\n",
            "Confusion Matrix:\n",
            " [[262   1   7   4]\n",
            " [  2 239   7   1]\n",
            " [  3   1 252   0]\n",
            " [  5   2   0 256]]\n"
          ]
        }
      ]
    },
    {
      "cell_type": "code",
      "source": [
        "# Generate predictions with the meta-classifier on the test set\n",
        "test_preds = best_meta_classifier.predict_proba(combined_test_preds)\n",
        "test_loss = log_loss(y_test, test_preds)\n",
        "test_accuracy = accuracy_score(y_test, meta_test_predictions)\n",
        "\n",
        "print(f\"Test Loss: {test_loss:.4f}\")\n",
        "print(f\"Test Accuracy: {test_accuracy:.4f}\")\n"
      ],
      "metadata": {
        "colab": {
          "base_uri": "https://localhost:8080/"
        },
        "id": "zFdjtUuORaos",
        "outputId": "5a38954f-a6ca-4225-da28-d0044a107910"
      },
      "execution_count": null,
      "outputs": [
        {
          "output_type": "stream",
          "name": "stdout",
          "text": [
            "Test Loss: 0.1838\n",
            "Test Accuracy: 0.9683\n"
          ]
        }
      ]
    },
    {
      "cell_type": "markdown",
      "source": [
        "Trying different meta models under stacking ensemble\n",
        "NeuralNetwork meta model"
      ],
      "metadata": {
        "id": "wRYbxydQ1q92"
      }
    },
    {
      "cell_type": "code",
      "source": [
        "from tensorflow.keras.models import Sequential\n",
        "from tensorflow.keras.layers import Dense\n",
        "\n",
        "# Define the neural network meta-model\n",
        "meta_model = Sequential()\n",
        "meta_model.add(Dense(128, activation='relu', input_dim=combined_train_preds.shape[1]))\n",
        "meta_model.add(Dense(64, activation='relu'))\n",
        "meta_model.add(Dense(4, activation='softmax'))  # Adjust the number of classes as needed\n",
        "\n",
        "# Compile the meta-model\n",
        "meta_model.compile(optimizer='adam', loss='sparse_categorical_crossentropy', metrics=['accuracy'])\n",
        "\n",
        "# Train the meta-model\n",
        "meta_model.fit(combined_train_preds, y_train, epochs=20, validation_data=(combined_val_preds, y_val), batch_size=32)\n",
        "\n",
        "# Evaluate the meta-model on the validation set\n",
        "val_loss, val_accuracy = meta_model.evaluate(combined_val_preds, y_val)\n",
        "print(f\"Validation Accuracy: {val_accuracy}\")\n",
        "print(f\"Validation Loss: {val_loss}\")\n",
        "\n",
        "# Save the neural network meta-model\n",
        "meta_model.save('/content/drive/MyDrive/Models/neural_meta_model.hd5')\n",
        "print(\"Neural network meta-model saved.\")\n",
        "\n",
        "# Evaluate on the test set\n",
        "test_loss, test_accuracy = meta_model.evaluate(combined_test_preds, y_test)\n",
        "print(f\"Test Accuracy: {test_accuracy}\")\n",
        "print(f\"Test Loss: {test_loss}\")\n",
        "\n",
        "# Generate predictions for the test set and classification report\n",
        "meta_test_predictions = np.argmax(meta_model.predict(combined_test_preds), axis=1)\n",
        "print(classification_report(y_test, meta_test_predictions, target_names=['Normal', 'Covid_positive', 'Lung_Opacity', 'Viral_Pneumonia']))\n",
        "\n",
        "# Generate the confusion matrix for the test set\n",
        "cm_test = confusion_matrix(y_test, meta_test_predictions)\n",
        "print(\"Confusion Matrix:\\n\", cm_test)\n"
      ],
      "metadata": {
        "colab": {
          "base_uri": "https://localhost:8080/"
        },
        "id": "EviguZ4dSDZo",
        "outputId": "ddc533d3-29bd-4588-b7ad-0e72590c0cc0"
      },
      "execution_count": null,
      "outputs": [
        {
          "output_type": "stream",
          "name": "stdout",
          "text": [
            "Epoch 1/20\n",
            "118/118 [==============================] - 3s 5ms/step - loss: 0.2757 - accuracy: 0.9736 - val_loss: 0.0835 - val_accuracy: 0.9784\n",
            "Epoch 2/20\n",
            "118/118 [==============================] - 0s 3ms/step - loss: 0.0026 - accuracy: 1.0000 - val_loss: 0.0926 - val_accuracy: 0.9760\n",
            "Epoch 3/20\n",
            "118/118 [==============================] - 0s 3ms/step - loss: 6.6150e-04 - accuracy: 1.0000 - val_loss: 0.1007 - val_accuracy: 0.9760\n",
            "Epoch 4/20\n",
            "118/118 [==============================] - 0s 3ms/step - loss: 3.0519e-04 - accuracy: 1.0000 - val_loss: 0.1068 - val_accuracy: 0.9760\n",
            "Epoch 5/20\n",
            "118/118 [==============================] - 0s 3ms/step - loss: 1.7338e-04 - accuracy: 1.0000 - val_loss: 0.1108 - val_accuracy: 0.9736\n",
            "Epoch 6/20\n",
            "118/118 [==============================] - 0s 3ms/step - loss: 1.1186e-04 - accuracy: 1.0000 - val_loss: 0.1150 - val_accuracy: 0.9736\n",
            "Epoch 7/20\n",
            "118/118 [==============================] - 0s 3ms/step - loss: 7.7557e-05 - accuracy: 1.0000 - val_loss: 0.1182 - val_accuracy: 0.9736\n",
            "Epoch 8/20\n",
            "118/118 [==============================] - 0s 4ms/step - loss: 5.6027e-05 - accuracy: 1.0000 - val_loss: 0.1210 - val_accuracy: 0.9736\n",
            "Epoch 9/20\n",
            "118/118 [==============================] - 0s 4ms/step - loss: 4.1784e-05 - accuracy: 1.0000 - val_loss: 0.1239 - val_accuracy: 0.9736\n",
            "Epoch 10/20\n",
            "118/118 [==============================] - 0s 3ms/step - loss: 2.9852e-05 - accuracy: 1.0000 - val_loss: 0.1346 - val_accuracy: 0.9760\n",
            "Epoch 11/20\n",
            "118/118 [==============================] - 0s 3ms/step - loss: 1.9874e-05 - accuracy: 1.0000 - val_loss: 0.1401 - val_accuracy: 0.9760\n",
            "Epoch 12/20\n",
            "118/118 [==============================] - 0s 3ms/step - loss: 1.4419e-05 - accuracy: 1.0000 - val_loss: 0.1447 - val_accuracy: 0.9760\n",
            "Epoch 13/20\n",
            "118/118 [==============================] - 0s 4ms/step - loss: 1.1009e-05 - accuracy: 1.0000 - val_loss: 0.1490 - val_accuracy: 0.9760\n",
            "Epoch 14/20\n",
            "118/118 [==============================] - 0s 3ms/step - loss: 8.7422e-06 - accuracy: 1.0000 - val_loss: 0.1528 - val_accuracy: 0.9760\n",
            "Epoch 15/20\n",
            "118/118 [==============================] - 0s 3ms/step - loss: 7.1997e-06 - accuracy: 1.0000 - val_loss: 0.1563 - val_accuracy: 0.9760\n",
            "Epoch 16/20\n",
            "118/118 [==============================] - 0s 4ms/step - loss: 6.0867e-06 - accuracy: 1.0000 - val_loss: 0.1596 - val_accuracy: 0.9760\n",
            "Epoch 17/20\n",
            "118/118 [==============================] - 0s 4ms/step - loss: 5.2301e-06 - accuracy: 1.0000 - val_loss: 0.1624 - val_accuracy: 0.9760\n",
            "Epoch 18/20\n",
            "118/118 [==============================] - 0s 3ms/step - loss: 4.5476e-06 - accuracy: 1.0000 - val_loss: 0.1654 - val_accuracy: 0.9760\n",
            "Epoch 19/20\n",
            "118/118 [==============================] - 0s 4ms/step - loss: 3.9824e-06 - accuracy: 1.0000 - val_loss: 0.1683 - val_accuracy: 0.9760\n",
            "Epoch 20/20\n",
            "118/118 [==============================] - 1s 5ms/step - loss: 3.5311e-06 - accuracy: 1.0000 - val_loss: 0.1700 - val_accuracy: 0.9760\n",
            "14/14 [==============================] - 0s 3ms/step - loss: 0.1700 - accuracy: 0.9760\n",
            "Validation Accuracy: 0.9760192036628723\n",
            "Validation Loss: 0.1699904501438141\n",
            "Neural network meta-model saved.\n",
            "33/33 [==============================] - 0s 4ms/step - loss: 0.2082 - accuracy: 0.9655\n",
            "Test Accuracy: 0.9654510617256165\n",
            "Test Loss: 0.20820994675159454\n",
            "33/33 [==============================] - 0s 3ms/step\n",
            "                 precision    recall  f1-score   support\n",
            "\n",
            "         Normal       0.96      0.96      0.96       274\n",
            " Covid_positive       0.97      0.96      0.97       249\n",
            "   Lung_Opacity       0.95      0.97      0.96       256\n",
            "Viral_Pneumonia       0.98      0.97      0.98       263\n",
            "\n",
            "       accuracy                           0.97      1042\n",
            "      macro avg       0.97      0.97      0.97      1042\n",
            "   weighted avg       0.97      0.97      0.97      1042\n",
            "\n",
            "Confusion Matrix:\n",
            " [[262   1   8   3]\n",
            " [  3 240   5   1]\n",
            " [  3   4 249   0]\n",
            " [  6   2   0 255]]\n"
          ]
        }
      ]
    },
    {
      "cell_type": "code",
      "source": [
        "import numpy as np\n",
        "from sklearn.metrics import classification_report, confusion_matrix\n",
        "from sklearn.linear_model import LogisticRegression\n",
        "from tensorflow.keras.models import load_model, Model\n",
        "from tensorflow.keras.layers import GlobalAveragePooling2D, Dropout, BatchNormalization, Dense, Input, Concatenate\n",
        "from tensorflow.keras.optimizers import Adam\n",
        "from tensorflow.keras.callbacks import EarlyStopping, ModelCheckpoint\n",
        "import joblib\n",
        "\n",
        "# Function to extract intermediate features\n",
        "def extract_intermediate_features(model, data):\n",
        "    intermediate_layer_model = Model(inputs=model.input, outputs=model.layers[-3].output)\n",
        "    intermediate_features = intermediate_layer_model.predict(data)\n",
        "    return intermediate_features\n",
        "\n",
        "# Extract intermediate features for train, validation, and test sets\n",
        "mobilenet_train_intermediate = extract_intermediate_features(mobilenet, x_train)\n",
        "resnet50_train_intermediate = extract_intermediate_features(resnet50, x_train)\n",
        "inceptionv3_train_intermediate = extract_intermediate_features(inceptionv3, x_train)\n",
        "\n",
        "mobilenet_val_intermediate = extract_intermediate_features(mobilenet, x_val)\n",
        "resnet50_val_intermediate = extract_intermediate_features(resnet50, x_val)\n",
        "inceptionv3_val_intermediate = extract_intermediate_features(inceptionv3, x_val)\n",
        "\n",
        "mobilenet_test_intermediate = extract_intermediate_features(mobilenet, x_test)\n",
        "resnet50_test_intermediate = extract_intermediate_features(resnet50, x_test)\n",
        "inceptionv3_test_intermediate = extract_intermediate_features(inceptionv3, x_test)\n",
        "\n",
        "# Generate predictions for train, validation, and test sets\n",
        "mobilenet_train_preds = mobilenet.predict(x_train)\n",
        "resnet50_train_preds = resnet50.predict(x_train)\n",
        "inceptionv3_train_preds = inceptionv3.predict(x_train)\n",
        "\n",
        "mobilenet_val_preds = mobilenet.predict(x_val)\n",
        "resnet50_val_preds = resnet50.predict(x_val)\n",
        "inceptionv3_val_preds = inceptionv3.predict(x_val)\n",
        "\n",
        "mobilenet_test_preds = mobilenet.predict(x_test)\n",
        "resnet50_test_preds = resnet50.predict(x_test)\n",
        "inceptionv3_test_preds = inceptionv3.predict(x_test)\n",
        "\n",
        "# Combine features and predictions\n",
        "combined_train_features = np.concatenate(\n",
        "    [mobilenet_train_intermediate, resnet50_train_intermediate, inceptionv3_train_intermediate,\n",
        "     mobilenet_train_preds, resnet50_train_preds, inceptionv3_train_preds],\n",
        "    axis=1\n",
        ")\n",
        "\n",
        "combined_val_features = np.concatenate(\n",
        "    [mobilenet_val_intermediate, resnet50_val_intermediate, inceptionv3_val_intermediate,\n",
        "     mobilenet_val_preds, resnet50_val_preds, inceptionv3_val_preds],\n",
        "    axis=1\n",
        ")\n",
        "\n",
        "combined_test_features = np.concatenate(\n",
        "    [mobilenet_test_intermediate, resnet50_test_intermediate, inceptionv3_test_intermediate,\n",
        "     mobilenet_test_preds, resnet50_test_preds, inceptionv3_test_preds],\n",
        "    axis=1\n",
        ")\n",
        "\n",
        "# Labels\n",
        "train_labels = y_train\n",
        "val_labels = y_val\n",
        "test_labels = y_test\n",
        "\n",
        "# Define a more complex meta-model\n",
        "input_layer = Input(shape=(combined_train_features.shape[1],))\n",
        "x = Dense(512, activation='relu')(input_layer)\n",
        "x = BatchNormalization()(x)\n",
        "x = Dropout(0.5)(x)\n",
        "x = Dense(256, activation='relu')(x)\n",
        "x = BatchNormalization()(x)\n",
        "x = Dropout(0.5)(x)\n",
        "x = Dense(128, activation='relu')(x)\n",
        "x = BatchNormalization()(x)\n",
        "x = Dropout(0.5)(x)\n",
        "x = Dense(64, activation='relu')(x)\n",
        "x = BatchNormalization()(x)\n",
        "x = Dropout(0.5)(x)\n",
        "output_layer = Dense(4, activation='softmax')(x)\n",
        "\n",
        "meta_model = Model(inputs=input_layer, outputs=output_layer)\n",
        "meta_model.compile(optimizer=Adam(learning_rate=3e-4), loss='sparse_categorical_crossentropy', metrics=['accuracy'])\n",
        "\n",
        "# Train the meta-model\n",
        "history = meta_model.fit(\n",
        "    combined_train_features, train_labels,\n",
        "    epochs=100,\n",
        "    batch_size=32,\n",
        "    validation_data=(combined_val_features, val_labels),\n",
        "    callbacks=[EarlyStopping(patience=10, restore_best_weights=True)]\n",
        ")\n",
        "\n",
        "# Evaluate on validation set\n",
        "val_loss, val_accuracy = meta_model.evaluate(combined_val_features, val_labels)\n",
        "print(f\"Validation Accuracy: {val_accuracy}\")\n",
        "print(f\"Validation Loss: {val_loss}\")\n",
        "\n",
        "# Save the meta-model\n",
        "meta_model.save('path_to_save_meta_model/complex_Neural_meta_model.h5')\n",
        "print(\"Meta-model saved.\")\n",
        "\n",
        "# Evaluate on test set\n",
        "test_loss, test_accuracy = meta_model.evaluate(combined_test_features, test_labels)\n",
        "print(f\"Test Accuracy: {test_accuracy}\")\n",
        "print(f\"Test Loss: {test_loss}\")\n",
        "\n",
        "# Generate predictions for the test set and classification report\n",
        "meta_test_predictions = np.argmax(meta_model.predict(combined_test_features), axis=1)\n",
        "print(classification_report(test_labels, meta_test_predictions, target_names=['Normal', 'Covid_positive', 'Lung_Opacity', 'Viral_Pneumonia']))\n",
        "\n",
        "# Generate the confusion matrix for the test set\n",
        "cm_test = confusion_matrix(test_labels, meta_test_predictions)\n",
        "print(\"Confusion Matrix:\\n\", cm_test)\n"
      ],
      "metadata": {
        "colab": {
          "base_uri": "https://localhost:8080/"
        },
        "id": "5ejt-fkgTpL4",
        "outputId": "b85b17b4-d5b3-45dd-fbb7-87d091707863"
      },
      "execution_count": null,
      "outputs": [
        {
          "output_type": "stream",
          "name": "stdout",
          "text": [
            "118/118 [==============================] - 12s 63ms/step\n",
            "118/118 [==============================] - 25s 169ms/step\n",
            "118/118 [==============================] - 35s 244ms/step\n",
            "14/14 [==============================] - 2s 113ms/step\n",
            "14/14 [==============================] - 4s 217ms/step\n",
            "14/14 [==============================] - 4s 279ms/step\n",
            "33/33 [==============================] - 4s 94ms/step\n",
            "33/33 [==============================] - 9s 239ms/step\n",
            "33/33 [==============================] - 12s 345ms/step\n",
            "118/118 [==============================] - 8s 63ms/step\n",
            "118/118 [==============================] - 21s 166ms/step\n",
            "118/118 [==============================] - 27s 222ms/step\n",
            "14/14 [==============================] - 1s 65ms/step\n",
            "14/14 [==============================] - 2s 158ms/step\n",
            "14/14 [==============================] - 3s 217ms/step\n",
            "33/33 [==============================] - 2s 63ms/step\n",
            "33/33 [==============================] - 5s 162ms/step\n",
            "33/33 [==============================] - 7s 225ms/step\n",
            "Epoch 1/100\n",
            "118/118 [==============================] - 7s 10ms/step - loss: 0.7011 - accuracy: 0.7499 - val_loss: 0.1197 - val_accuracy: 0.9736\n",
            "Epoch 2/100\n",
            "118/118 [==============================] - 1s 7ms/step - loss: 0.1879 - accuracy: 0.9456 - val_loss: 0.1040 - val_accuracy: 0.9712\n",
            "Epoch 3/100\n",
            "118/118 [==============================] - 1s 10ms/step - loss: 0.1061 - accuracy: 0.9765 - val_loss: 0.0997 - val_accuracy: 0.9712\n",
            "Epoch 4/100\n",
            "118/118 [==============================] - 1s 10ms/step - loss: 0.0870 - accuracy: 0.9760 - val_loss: 0.1042 - val_accuracy: 0.9712\n",
            "Epoch 5/100\n",
            "118/118 [==============================] - 1s 10ms/step - loss: 0.0644 - accuracy: 0.9856 - val_loss: 0.1199 - val_accuracy: 0.9712\n",
            "Epoch 6/100\n",
            "118/118 [==============================] - 1s 7ms/step - loss: 0.0532 - accuracy: 0.9893 - val_loss: 0.1237 - val_accuracy: 0.9712\n",
            "Epoch 7/100\n",
            "118/118 [==============================] - 1s 8ms/step - loss: 0.0359 - accuracy: 0.9933 - val_loss: 0.1114 - val_accuracy: 0.9736\n",
            "Epoch 8/100\n",
            "118/118 [==============================] - 1s 7ms/step - loss: 0.0513 - accuracy: 0.9859 - val_loss: 0.1337 - val_accuracy: 0.9712\n",
            "Epoch 9/100\n",
            "118/118 [==============================] - 1s 7ms/step - loss: 0.0399 - accuracy: 0.9923 - val_loss: 0.1382 - val_accuracy: 0.9712\n",
            "Epoch 10/100\n",
            "118/118 [==============================] - 1s 8ms/step - loss: 0.0238 - accuracy: 0.9955 - val_loss: 0.1212 - val_accuracy: 0.9760\n",
            "Epoch 11/100\n",
            "118/118 [==============================] - 1s 7ms/step - loss: 0.0265 - accuracy: 0.9944 - val_loss: 0.1426 - val_accuracy: 0.9712\n",
            "Epoch 12/100\n",
            "118/118 [==============================] - 1s 7ms/step - loss: 0.0235 - accuracy: 0.9947 - val_loss: 0.1603 - val_accuracy: 0.9712\n",
            "Epoch 13/100\n",
            "118/118 [==============================] - 1s 8ms/step - loss: 0.0201 - accuracy: 0.9957 - val_loss: 0.1634 - val_accuracy: 0.9736\n",
            "14/14 [==============================] - 0s 5ms/step - loss: 0.0997 - accuracy: 0.9712\n",
            "Validation Accuracy: 0.971222996711731\n",
            "Validation Loss: 0.09967252612113953\n",
            "Meta-model saved.\n"
          ]
        },
        {
          "output_type": "stream",
          "name": "stderr",
          "text": [
            "/usr/local/lib/python3.10/dist-packages/keras/src/engine/training.py:3103: UserWarning: You are saving your model as an HDF5 file via `model.save()`. This file format is considered legacy. We recommend using instead the native Keras format, e.g. `model.save('my_model.keras')`.\n",
            "  saving_api.save_model(\n"
          ]
        },
        {
          "output_type": "stream",
          "name": "stdout",
          "text": [
            "33/33 [==============================] - 0s 4ms/step - loss: 0.1077 - accuracy: 0.9683\n",
            "Test Accuracy: 0.9683301448822021\n",
            "Test Loss: 0.10773421078920364\n",
            "33/33 [==============================] - 0s 3ms/step\n",
            "                 precision    recall  f1-score   support\n",
            "\n",
            "         Normal       0.96      0.96      0.96       274\n",
            " Covid_positive       0.97      0.97      0.97       249\n",
            "   Lung_Opacity       0.95      0.98      0.96       256\n",
            "Viral_Pneumonia       0.99      0.97      0.98       263\n",
            "\n",
            "       accuracy                           0.97      1042\n",
            "      macro avg       0.97      0.97      0.97      1042\n",
            "   weighted avg       0.97      0.97      0.97      1042\n",
            "\n",
            "Confusion Matrix:\n",
            " [[263   1   8   2]\n",
            " [  2 241   5   1]\n",
            " [  2   4 250   0]\n",
            " [  6   2   0 255]]\n"
          ]
        }
      ]
    },
    {
      "cell_type": "code",
      "source": [
        "meta_model.save('/content/drive/MyDrive/Models/complex_Neural_meta_model.hd5')\n",
        "print(\"Meta-model saved.\")"
      ],
      "metadata": {
        "colab": {
          "base_uri": "https://localhost:8080/"
        },
        "id": "MHSlpnMPWyWv",
        "outputId": "b807913b-9055-49b0-f74d-fffcc5c271f5"
      },
      "execution_count": null,
      "outputs": [
        {
          "output_type": "stream",
          "name": "stdout",
          "text": [
            "Meta-model saved.\n"
          ]
        }
      ]
    }
  ]
}