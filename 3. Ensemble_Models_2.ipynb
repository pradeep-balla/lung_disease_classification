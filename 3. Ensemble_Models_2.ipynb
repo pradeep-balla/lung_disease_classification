{
  "nbformat": 4,
  "nbformat_minor": 0,
  "metadata": {
    "colab": {
      "provenance": [],
      "gpuType": "T4"
    },
    "kernelspec": {
      "name": "python3",
      "display_name": "Python 3"
    },
    "language_info": {
      "name": "python"
    },
    "accelerator": "GPU"
  },
  "cells": [
    {
      "cell_type": "code",
      "execution_count": null,
      "metadata": {
        "id": "fIiIXaqNFAtu"
      },
      "outputs": [],
      "source": [
        "from tensorflow.keras.models import load_model\n",
        "import numpy as np\n",
        "from sklearn.linear_model import LogisticRegression\n",
        "from sklearn.metrics import accuracy_score, confusion_matrix, classification_report\n",
        "import joblib"
      ]
    },
    {
      "cell_type": "code",
      "source": [
        "from google.colab import drive\n",
        "drive.mount('/content/drive')"
      ],
      "metadata": {
        "colab": {
          "base_uri": "https://localhost:8080/"
        },
        "id": "N-Ns6lpVmnVK",
        "outputId": "2e8adcc0-0fe2-4554-e0ad-eb619ce23468"
      },
      "execution_count": null,
      "outputs": [
        {
          "output_type": "stream",
          "name": "stdout",
          "text": [
            "Mounted at /content/drive\n"
          ]
        }
      ]
    },
    {
      "cell_type": "code",
      "source": [
        "import os\n",
        "import numpy as np\n",
        "from sklearn.model_selection import train_test_split\n",
        "\n",
        "# Directory where arrays are saved\n",
        "directory = '/content/drive/MyDrive/arrays27'\n",
        "\n",
        "# File paths\n",
        "x_train_path = os.path.join(directory, 'x_train.npy')\n",
        "x_test_path = os.path.join(directory, 'x_test.npy')\n",
        "x_val_path = os.path.join(directory, 'x_val.npy')\n",
        "y_train_path = os.path.join(directory, 'y_train.npy')\n",
        "y_test_path = os.path.join(directory, 'y_test.npy')\n",
        "y_val_path = os.path.join(directory, 'y_val.npy')\n",
        "\n",
        "# Load arrays\n",
        "x_train = np.load(x_train_path)\n",
        "x_test = np.load(x_test_path)\n",
        "x_val = np.load(x_val_path)\n",
        "y_train = np.load(y_train_path)\n",
        "y_test = np.load(y_test_path)\n",
        "y_val = np.load(y_val_path)\n",
        "\n",
        "print(f\"Loaded data from {directory}\")\n",
        "print(x_train.shape, x_test.shape, x_val.shape, y_train.shape, y_test.shape, y_val.shape)"
      ],
      "metadata": {
        "colab": {
          "base_uri": "https://localhost:8080/"
        },
        "id": "hHM3oj8CFqxj",
        "outputId": "5932204b-c4b2-4781-d5c1-54644e63315a"
      },
      "execution_count": null,
      "outputs": [
        {
          "output_type": "stream",
          "name": "stdout",
          "text": [
            "Loaded data from /content/drive/MyDrive/arrays27\n",
            "(3751, 299, 299, 3) (1042, 299, 299, 3) (417, 299, 299, 3) (3751,) (1042,) (417,)\n"
          ]
        }
      ]
    },
    {
      "cell_type": "markdown",
      "source": [
        "ENSEMBLE-2 (VGG16 + resnet50 + xception)\n",
        "\n",
        "  Loading the base models\n"
      ],
      "metadata": {
        "id": "Su0jAn7_xWMy"
      }
    },
    {
      "cell_type": "code",
      "source": [
        "mobilenet = load_model('/content/drive/MyDrive/Models/VGG16_0.hdf5')\n",
        "resnet50 = load_model('/content/drive/MyDrive/Models/Resnet50.hdf5')\n",
        "inceptionv3 = load_model('/content/drive/MyDrive/Models/Xception.hdf5')"
      ],
      "metadata": {
        "id": "vitHlow7FUPo"
      },
      "execution_count": null,
      "outputs": []
    },
    {
      "cell_type": "markdown",
      "source": [
        "Generate base models predictions aand combine them"
      ],
      "metadata": {
        "id": "kuwyS3Ctxk2B"
      }
    },
    {
      "cell_type": "code",
      "source": [
        "def get_model_predictions(model, data):\n",
        "    return model.predict(data,batch_size=64)\n",
        "\n",
        "# Generate predictions for the train set\n",
        "mobilenet_train_preds = get_model_predictions(mobilenet, x_train)\n",
        "resnet50_train_preds = get_model_predictions(resnet50, x_train)\n",
        "inceptionv3_train_preds = get_model_predictions(inceptionv3, x_train)\n",
        "\n",
        "# Generate predictions for the validation set\n",
        "mobilenet_val_preds = get_model_predictions(mobilenet, x_val)\n",
        "resnet50_val_preds = get_model_predictions(resnet50, x_val)\n",
        "inceptionv3_val_preds = get_model_predictions(inceptionv3, x_val)\n"
      ],
      "metadata": {
        "colab": {
          "base_uri": "https://localhost:8080/"
        },
        "id": "PWIZsyLLFp4l",
        "outputId": "940ba678-8073-4f2d-d2bc-373a4df7152f"
      },
      "execution_count": null,
      "outputs": [
        {
          "output_type": "stream",
          "name": "stdout",
          "text": [
            "59/59 [==============================] - 61s 697ms/step\n",
            "59/59 [==============================] - 34s 414ms/step\n",
            "59/59 [==============================] - 46s 573ms/step\n",
            "7/7 [==============================] - 13s 2s/step\n",
            "7/7 [==============================] - 6s 1s/step\n",
            "7/7 [==============================] - 9s 2s/step\n"
          ]
        }
      ]
    },
    {
      "cell_type": "code",
      "source": [
        "# Combine the train and validation predictions\n",
        "combined_train_preds = np.concatenate(\n",
        "    [mobilenet_train_preds, resnet50_train_preds, inceptionv3_train_preds],\n",
        "    axis=1\n",
        ")\n",
        "\n",
        "combined_val_preds = np.concatenate(\n",
        "    [mobilenet_val_preds, resnet50_val_preds, inceptionv3_val_preds],\n",
        "    axis=1\n",
        ")"
      ],
      "metadata": {
        "id": "7kHfravaF7nX"
      },
      "execution_count": null,
      "outputs": []
    },
    {
      "cell_type": "markdown",
      "source": [
        "Training meta classifier (logistic regression model)\n",
        "Stacking Ensemble Model"
      ],
      "metadata": {
        "id": "QLRCOV2dxqra"
      }
    },
    {
      "cell_type": "code",
      "source": [
        "# Initialize and train the meta-classifier\n",
        "meta_classifier = LogisticRegression(max_iter=1000)\n",
        "meta_classifier.fit(combined_train_preds, y_train)\n",
        "\n",
        "# Generate predictions with the meta-classifier on the validation set\n",
        "meta_val_predictions = meta_classifier.predict(combined_val_preds)\n"
      ],
      "metadata": {
        "id": "GpoV-ZD6G-qU"
      },
      "execution_count": null,
      "outputs": []
    },
    {
      "cell_type": "markdown",
      "source": [
        "Validation set results"
      ],
      "metadata": {
        "id": "FiFLxlgnx5De"
      }
    },
    {
      "cell_type": "code",
      "source": [
        "from sklearn.metrics import log_loss, accuracy_score\n",
        "\n",
        "# Evaluate the meta-classifier on the validation set\n",
        "val_preds = meta_classifier.predict_proba(combined_val_preds)\n",
        "val_loss = log_loss(y_val, val_preds)\n",
        "val_accuracy = accuracy_score(y_val, meta_val_predictions)\n",
        "\n",
        "print(f\"Validation Loss: {val_loss:.4f}\")\n",
        "print(f\"Validation Accuracy: {val_accuracy:.4f}\")\n"
      ],
      "metadata": {
        "colab": {
          "base_uri": "https://localhost:8080/"
        },
        "id": "qBTbZaZUJBSG",
        "outputId": "8cb871b8-f8ef-4f32-cee0-61055ae4f752"
      },
      "execution_count": null,
      "outputs": [
        {
          "output_type": "stream",
          "name": "stdout",
          "text": [
            "Validation Loss: 0.0985\n",
            "Validation Accuracy: 0.9760\n"
          ]
        }
      ]
    },
    {
      "cell_type": "code",
      "source": [
        "# Evaluate the meta-classifier on the validation set\n",
        "print(classification_report(y_val, meta_val_predictions, target_names=['Normal', 'Covid_positive', 'Lung_Opacity', 'Viral_Pneumonia']))\n",
        "\n",
        "# Generate the confusion matrix\n",
        "cm = confusion_matrix(y_val, meta_val_predictions)\n",
        "print(\"Confusion Matrix:\\n\", cm)\n",
        "\n",
        "# Save the meta-classifier\n",
        "meta_model_path = '/content/drive/MyDrive/Models/meta_classifier.pkl'\n",
        "joblib.dump(meta_classifier, meta_model_path)\n",
        "print(f\"Meta-model saved to {meta_model_path}\")\n"
      ],
      "metadata": {
        "colab": {
          "base_uri": "https://localhost:8080/"
        },
        "id": "WKHjIyLXGVmB",
        "outputId": "6288eb60-d7e2-4395-c343-f628d9e4812c"
      },
      "execution_count": null,
      "outputs": [
        {
          "output_type": "stream",
          "name": "stdout",
          "text": [
            "                 precision    recall  f1-score   support\n",
            "\n",
            "         Normal       0.99      0.96      0.98       103\n",
            " Covid_positive       0.97      0.98      0.98       105\n",
            "   Lung_Opacity       0.96      0.97      0.97       115\n",
            "Viral_Pneumonia       0.99      0.99      0.99        94\n",
            "\n",
            "       accuracy                           0.98       417\n",
            "      macro avg       0.98      0.98      0.98       417\n",
            "   weighted avg       0.98      0.98      0.98       417\n",
            "\n",
            "Confusion Matrix:\n",
            " [[ 99   0   4   0]\n",
            " [  0 103   1   1]\n",
            " [  0   3 112   0]\n",
            " [  1   0   0  93]]\n",
            "Meta-model saved to /content/drive/MyDrive/Models/meta_classifier.pkl\n"
          ]
        }
      ]
    },
    {
      "cell_type": "code",
      "source": [
        "import matplotlib.pyplot as plt\n",
        "from sklearn.metrics import ConfusionMatrixDisplay  # Import ConfusionMatrixDisplay\n",
        "\n",
        "# Display confusion matrix\n",
        "disp = ConfusionMatrixDisplay(confusion_matrix=cm, display_labels=['Normal', 'Covid_positive', 'Lung_Opacity', 'Viral_Pneumonia'])\n",
        "disp.plot(cmap=plt.cm.Blues)\n",
        "plt.show()"
      ],
      "metadata": {
        "colab": {
          "base_uri": "https://localhost:8080/",
          "height": 450
        },
        "id": "k0Elw2lOI1fo",
        "outputId": "059adf14-4fd9-4522-c0cc-bc613aaa2289"
      },
      "execution_count": null,
      "outputs": [
        {
          "output_type": "display_data",
          "data": {
            "text/plain": [
              "<Figure size 640x480 with 2 Axes>"
            ],
            "image/png": "[encoded data removed]"
          },
          "metadata": {}
        }
      ]
    },
    {
      "cell_type": "markdown",
      "source": [
        "Test Results"
      ],
      "metadata": {
        "id": "2ess0QQPx2WF"
      }
    },
    {
      "cell_type": "code",
      "source": [
        "# Now for testing on the test set\n",
        "mobilenet_test_preds = get_model_predictions(mobilenet, x_test)\n",
        "resnet50_test_preds = get_model_predictions(resnet50, x_test)\n",
        "inceptionv3_test_preds = get_model_predictions(inceptionv3, x_test)\n",
        "\n",
        "combined_test_preds = np.concatenate(\n",
        "    [mobilenet_test_preds, resnet50_test_preds, inceptionv3_test_preds],\n",
        "    axis=1\n",
        ")\n",
        "\n",
        "# Test labels\n",
        "# test_labels = np.argmax(y_test, axis=1)\n",
        "\n",
        "# Generate predictions with the meta-classifier on the test set\n",
        "meta_test_predictions = meta_classifier.predict(combined_test_preds)\n",
        "\n",
        "# Evaluate the meta-classifier on the test set\n",
        "print(classification_report(y_test, meta_test_predictions, target_names=['Normal', 'Covid_positive', 'Lung_Opacity', 'Viral_Pneumonia']))\n",
        "\n",
        "# Generate the confusion matrix for the test set\n",
        "cm_test = confusion_matrix(y_test, meta_test_predictions)\n",
        "print(\"Confusion Matrix:\\n\", cm_test)"
      ],
      "metadata": {
        "colab": {
          "base_uri": "https://localhost:8080/"
        },
        "id": "9asKZNUBGicP",
        "outputId": "31171c15-5278-4987-a251-8244b83b4cbc"
      },
      "execution_count": null,
      "outputs": [
        {
          "output_type": "stream",
          "name": "stdout",
          "text": [
            "33/33 [==============================] - 13s 403ms/step\n",
            "33/33 [==============================] - 7s 233ms/step\n",
            "33/33 [==============================] - 10s 310ms/step\n",
            "                 precision    recall  f1-score   support\n",
            "\n",
            "         Normal       0.97      0.96      0.96       274\n",
            " Covid_positive       0.98      0.97      0.98       249\n",
            "   Lung_Opacity       0.94      0.98      0.96       256\n",
            "Viral_Pneumonia       0.99      0.97      0.98       263\n",
            "\n",
            "       accuracy                           0.97      1042\n",
            "      macro avg       0.97      0.97      0.97      1042\n",
            "   weighted avg       0.97      0.97      0.97      1042\n",
            "\n",
            "Confusion Matrix:\n",
            " [[263   1   8   2]\n",
            " [  1 242   6   0]\n",
            " [  2   2 252   0]\n",
            " [  6   1   1 255]]\n"
          ]
        }
      ]
    },
    {
      "cell_type": "code",
      "source": [
        "# Generate predictions with the meta-classifier on the test set\n",
        "test_preds = meta_classifier.predict_proba(combined_test_preds)\n",
        "test_loss = log_loss(y_test, test_preds)\n",
        "test_accuracy = accuracy_score(y_test, meta_test_predictions)\n",
        "\n",
        "print(f\"Test Loss: {test_loss:.4f}\")\n",
        "print(f\"Test Accuracy: {test_accuracy:.4f}\")\n"
      ],
      "metadata": {
        "colab": {
          "base_uri": "https://localhost:8080/"
        },
        "id": "AaYq09ppJ4pP",
        "outputId": "a4eea290-c74c-4512-8029-cd48a0c9f331"
      },
      "execution_count": null,
      "outputs": [
        {
          "output_type": "stream",
          "name": "stdout",
          "text": [
            "Test Loss: 0.0895\n",
            "Test Accuracy: 0.9712\n"
          ]
        }
      ]
    },
    {
      "cell_type": "code",
      "source": [
        "import matplotlib.pyplot as plt\n",
        "from sklearn.metrics import ConfusionMatrixDisplay  # Import ConfusionMatrixDisplay\n",
        "\n",
        "# Display confusion matrix\n",
        "disp = ConfusionMatrixDisplay(confusion_matrix=cm_test, display_labels=['Normal', 'Covid_positive', 'Lung_Opacity', 'Viral_Pneumonia'])\n",
        "disp.plot(cmap=plt.cm.Blues)\n",
        "plt.show()"
      ],
      "metadata": {
        "colab": {
          "base_uri": "https://localhost:8080/",
          "height": 450
        },
        "id": "kpRjPVGXIhbs",
        "outputId": "7957f484-e29a-49c4-84a4-62543410a8de"
      },
      "execution_count": null,
      "outputs": [
        {
          "output_type": "display_data",
          "data": {
            "text/plain": [
              "<Figure size 640x480 with 2 Axes>"
            ],
            "image/png": "[encoded data removed]"
          },
          "metadata": {}
        }
      ]
    },
    {
      "cell_type": "markdown",
      "source": [
        "**Boosting ensemble techniques**\n",
        "  1. XGBoost"
      ],
      "metadata": {
        "id": "3nxol8WAx_Ql"
      }
    },
    {
      "cell_type": "code",
      "source": [
        "# Combine predictions into feature matrices\n",
        "X_train_combined = np.hstack((resnet50_train_preds, mobilenet_train_preds, inceptionv3_train_preds))\n",
        "X_val_combined = np.hstack((resnet50_val_preds, mobilenet_val_preds, inceptionv3_val_preds))"
      ],
      "metadata": {
        "id": "Tn6oTgFrAAOs"
      },
      "execution_count": null,
      "outputs": []
    },
    {
      "cell_type": "code",
      "source": [
        "y_train.shape"
      ],
      "metadata": {
        "colab": {
          "base_uri": "https://localhost:8080/"
        },
        "id": "-Q7XEkB4BzCa",
        "outputId": "26752e85-d4c1-4cf4-ada1-04da648ae5e4"
      },
      "execution_count": null,
      "outputs": [
        {
          "output_type": "execute_result",
          "data": {
            "text/plain": [
              "(3751,)"
            ]
          },
          "metadata": {},
          "execution_count": 7
        }
      ]
    },
    {
      "cell_type": "code",
      "source": [
        "from xgboost import XGBClassifier\n",
        "from sklearn.metrics import accuracy_score\n",
        "\n",
        "# Create and train XGBoost model\n",
        "xgb_model = XGBClassifier(n_estimators=100, learning_rate=0.1, max_depth=3, random_state=42)\n",
        "xgb_model.fit(X_train_combined, y_train)  # Use y_train as 1D array\n",
        "\n",
        "# Predict on validation set\n",
        "y_pred = xgb_model.predict(X_val_combined)\n",
        "\n",
        "# Evaluate\n",
        "print(\"XGBoost Accuracy:\", accuracy_score(y_val, y_pred))  # Use y_val as 1D array\n"
      ],
      "metadata": {
        "colab": {
          "base_uri": "https://localhost:8080/"
        },
        "id": "EPY1K6KaAHRB",
        "outputId": "023482b3-124c-4bc2-fbab-2834dc020122"
      },
      "execution_count": null,
      "outputs": [
        {
          "output_type": "stream",
          "name": "stdout",
          "text": [
            "XGBoost Accuracy: 0.9688249400479616\n"
          ]
        }
      ]
    },
    {
      "cell_type": "markdown",
      "source": [
        "2. LightBGM"
      ],
      "metadata": {
        "id": "i7USW49lyPlL"
      }
    },
    {
      "cell_type": "code",
      "source": [
        "from lightgbm import LGBMClassifier\n",
        "from sklearn.metrics import accuracy_score\n",
        "\n",
        "# Create and train LightGBM model\n",
        "lgb_model = LGBMClassifier(n_estimators=100, learning_rate=0.01, max_depth=-1, random_state=82)\n",
        "lgb_model.fit(X_train_combined,y_train)  # Use y_train as 1D array\n",
        "\n",
        "# Predict on validation set\n",
        "y_pred = lgb_model.predict(X_val_combined)\n",
        "\n",
        "# Evaluate\n",
        "print(\"LightGBM Accuracy:\", accuracy_score(y_val, y_pred))  # Use y_val as 1D array\n"
      ],
      "metadata": {
        "colab": {
          "base_uri": "https://localhost:8080/"
        },
        "id": "xj2B4ZOUCr9L",
        "outputId": "165f1727-8e9e-4a0a-afc7-eefde0dd73ba"
      },
      "execution_count": null,
      "outputs": [
        {
          "output_type": "stream",
          "name": "stdout",
          "text": [
            "[LightGBM] [Info] Auto-choosing col-wise multi-threading, the overhead of testing was 0.000447 seconds.\n",
            "You can set `force_col_wise=true` to remove the overhead.\n",
            "[LightGBM] [Info] Total Bins 3055\n",
            "[LightGBM] [Info] Number of data points in the train set: 3751, number of used features: 12\n",
            "[LightGBM] [Info] Start training from score -1.402149\n",
            "[LightGBM] [Info] Start training from score -1.377535\n",
            "[LightGBM] [Info] Start training from score -1.384962\n",
            "[LightGBM] [Info] Start training from score -1.380711\n",
            "[LightGBM] [Warning] No further splits with positive gain, best gain: -inf\n",
            "[LightGBM] [Warning] No further splits with positive gain, best gain: -inf\n",
            "[LightGBM] [Warning] No further splits with positive gain, best gain: -inf\n",
            "[LightGBM] [Warning] No further splits with positive gain, best gain: -inf\n",
            "[LightGBM] [Warning] No further splits with positive gain, best gain: -inf\n",
            "[LightGBM] [Warning] No further splits with positive gain, best gain: -inf\n",
            "[LightGBM] [Warning] No further splits with positive gain, best gain: -inf\n",
            "[LightGBM] [Warning] No further splits with positive gain, best gain: -inf\n",
            "LightGBM Accuracy: 0.9760191846522782\n"
          ]
        }
      ]
    },
    {
      "cell_type": "markdown",
      "source": [
        "\n",
        "3. Voting ensemble technique"
      ],
      "metadata": {
        "id": "qFmnMe26yWr2"
      }
    },
    {
      "cell_type": "code",
      "source": [
        "vgg_model = load_model('/content/drive/MyDrive/Models/VGG16_0.hdf5')\n",
        "resnet_model = load_model('/content/drive/MyDrive/Models/Resnet50.hdf5')\n",
        "xception_model = load_model('/content/drive/MyDrive/Models/Xception.hdf5')"
      ],
      "metadata": {
        "id": "zJ788F1qLBew"
      },
      "execution_count": null,
      "outputs": []
    },
    {
      "cell_type": "code",
      "source": [
        "import numpy as np\n",
        "from tensorflow.keras.models import load_model\n",
        "from sklearn.metrics import accuracy_score\n",
        "\n",
        "# Define a wrapper class for pre-trained Keras models\n",
        "class KerasClassifierWrapper:\n",
        "    def __init__(self, model):\n",
        "        self.model = model\n",
        "\n",
        "    def predict(self, X):\n",
        "        # Predict class labels\n",
        "        return np.argmax(self.model.predict(X), axis=1)\n",
        "\n",
        "    def predict_proba(self, X):\n",
        "        # Predict probabilities\n",
        "        return self.model.predict(X)\n",
        "\n",
        "# Wrap the models\n",
        "resnet_clf = KerasClassifierWrapper(resnet_model)\n",
        "vgg_clf = KerasClassifierWrapper(vgg_model)\n",
        "xception_clf = KerasClassifierWrapper(xception_model)\n",
        "\n",
        "# Function to get ensemble predictions by majority vote\n",
        "def ensemble_predict(X, classifiers):\n",
        "    # Get predictions from each model\n",
        "    predictions = [clf.predict(X) for clf in classifiers]\n",
        "\n",
        "    # Stack predictions and take a majority vote\n",
        "    predictions = np.array(predictions)\n",
        "    # Shape: (num_classifiers, num_samples)\n",
        "    majority_vote = np.apply_along_axis(lambda x: np.bincount(x).argmax(), axis=0, arr=predictions)\n",
        "\n",
        "    return majority_vote\n",
        "\n",
        "# Get predictions for validation data\n",
        "classifiers = [resnet_clf, vgg_clf, xception_clf]\n",
        "y_pred_val = ensemble_predict(x_val, classifiers)\n",
        "\n",
        "\n",
        "# Evaluate the ensemble predictions\n",
        "val_accuracy = accuracy_score(y_val, y_pred_val)\n",
        "\n",
        "print(f\"Voting Ensemble Validation Accuracy: {val_accuracy:.4f}\")\n"
      ],
      "metadata": {
        "colab": {
          "base_uri": "https://localhost:8080/"
        },
        "id": "jdzSKvbILQCY",
        "outputId": "98fbae5c-04b8-44da-b8d4-888afe948d98"
      },
      "execution_count": null,
      "outputs": [
        {
          "output_type": "stream",
          "name": "stdout",
          "text": [
            "14/14 [==============================] - 8s 230ms/step\n",
            "14/14 [==============================] - 15s 318ms/step\n",
            "14/14 [==============================] - 12s 257ms/step\n",
            "Voting Ensemble Validation Accuracy: 0.9736\n"
          ]
        }
      ]
    },
    {
      "cell_type": "code",
      "source": [
        "import numpy as np\n",
        "from tensorflow.keras.models import load_model\n",
        "from sklearn.metrics import accuracy_score\n",
        "\n",
        "# Define a wrapper class for pre-trained Keras models\n",
        "class KerasClassifierWrapper:\n",
        "    def __init__(self, model):\n",
        "        self.model = model\n",
        "\n",
        "    def predict(self, X):\n",
        "        # Predict class labels\n",
        "        return np.argmax(self.model.predict(X), axis=1)\n",
        "\n",
        "    def predict_proba(self, X):\n",
        "        # Predict probabilities\n",
        "        return self.model.predict(X)\n",
        "\n",
        "# Wrap the models\n",
        "resnet_clf = KerasClassifierWrapper(resnet_model)\n",
        "vgg_clf = KerasClassifierWrapper(vgg_model)\n",
        "xception_clf = KerasClassifierWrapper(xception_model)\n",
        "\n",
        "# Function to get ensemble predictions by majority vote\n",
        "def ensemble_predict(X, classifiers):\n",
        "    # Get predictions from each model\n",
        "    predictions = [clf.predict(X) for clf in classifiers]\n",
        "\n",
        "    # Stack predictions and take a majority vote\n",
        "    predictions = np.array(predictions)\n",
        "    # Shape: (num_classifiers, num_samples)\n",
        "    majority_vote = np.apply_along_axis(lambda x: np.bincount(x).argmax(), axis=0, arr=predictions)\n",
        "\n",
        "    return majority_vote\n",
        "\n",
        "# Evaluate on test data\n",
        "# Assuming x_test and y_test are your test features and labels\n",
        "y_pred_test = ensemble_predict(x_test, [resnet_clf, vgg_clf, xception_clf])\n",
        "\n",
        "# Convert y_test to 1D labels\n",
        "# y_test_1d = np.argmax(y_test, axis=1)\n",
        "\n",
        "# Evaluate the ensemble predictions\n",
        "test_accuracy = accuracy_score(y_test, y_pred_test)\n",
        "\n",
        "print(f\"Voting Ensemble Test Accuracy: {test_accuracy:.4f}\")\n"
      ],
      "metadata": {
        "colab": {
          "base_uri": "https://localhost:8080/"
        },
        "id": "5gvFiABfNLTK",
        "outputId": "8d303213-24bd-475d-aa1f-e0a5bfe92a13"
      },
      "execution_count": null,
      "outputs": [
        {
          "output_type": "stream",
          "name": "stdout",
          "text": [
            "33/33 [==============================] - 8s 248ms/step\n",
            "33/33 [==============================] - 15s 467ms/step\n",
            "33/33 [==============================] - 11s 346ms/step\n",
            "Voting Ensemble Test Accuracy: 0.9712\n"
          ]
        }
      ]
    },
    {
      "cell_type": "code",
      "source": [
        "cm = confusion_matrix(y_test, y_pred_test)\n",
        "import matplotlib.pyplot as plt\n",
        "from sklearn.metrics import ConfusionMatrixDisplay  # Import ConfusionMatrixDisplay\n",
        "\n",
        "# Display confusion matrix\n",
        "disp = ConfusionMatrixDisplay(confusion_matrix=cm, display_labels=['Normal', 'Covid_positive', 'Lung_Opacity', 'Viral_Pneumonia'])\n",
        "disp.plot(cmap=plt.cm.Blues)\n",
        "plt.show()"
      ],
      "metadata": {
        "colab": {
          "base_uri": "https://localhost:8080/",
          "height": 450
        },
        "id": "d_GtGrGhNpzi",
        "outputId": "81330017-f0e1-4237-eac0-1c7fb66d1be6"
      },
      "execution_count": null,
      "outputs": [
        {
          "output_type": "display_data",
          "data": {
            "text/plain": [
              "<Figure size 640x480 with 2 Axes>"
            ],
            "image/png": "[encoded data removed]"
          },
          "metadata": {}
        }
      ]
    },
    {
      "cell_type": "code",
      "source": [
        "from sklearn.metrics import classification_report, confusion_matrix\n",
        "\n",
        "# Print detailed classification report\n",
        "print(\"Classification Report:\")\n",
        "print(classification_report(y_test, y_pred_test))\n",
        "\n",
        "# Print confusion matrix\n",
        "print(\"Confusion Matrix:\")\n",
        "print(confusion_matrix(y_test, y_pred_test))\n"
      ],
      "metadata": {
        "id": "xl0NPmk6NdEI"
      },
      "execution_count": null,
      "outputs": []
    }
  ]
}